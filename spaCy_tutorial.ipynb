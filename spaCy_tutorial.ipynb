{
  "nbformat": 4,
  "nbformat_minor": 0,
  "metadata": {
    "colab": {
      "name": "spaCy tutorial.ipynb",
      "provenance": [],
      "authorship_tag": "ABX9TyMk3ozVXtijdr7BsbCk+thG",
      "include_colab_link": true
    },
    "kernelspec": {
      "name": "python3",
      "display_name": "Python 3"
    }
  },
  "cells": [
    {
      "cell_type": "markdown",
      "metadata": {
        "id": "view-in-github",
        "colab_type": "text"
      },
      "source": [
        "<a href=\"https://colab.research.google.com/github/koushik1207/ML-and-AI-projects/blob/main/spaCy_tutorial.ipynb\" target=\"_parent\"><img src=\"https://colab.research.google.com/assets/colab-badge.svg\" alt=\"Open In Colab\"/></a>"
      ]
    },
    {
      "cell_type": "code",
      "metadata": {
        "colab": {
          "base_uri": "https://localhost:8080/"
        },
        "id": "pD8H5daIJytj",
        "outputId": "7dffafb8-dee4-449a-a399-98c7633b55be"
      },
      "source": [
        "!pip install -U spaCy"
      ],
      "execution_count": null,
      "outputs": [
        {
          "output_type": "stream",
          "text": [
            "Collecting spaCy\n",
            "\u001b[?25l  Downloading https://files.pythonhosted.org/packages/50/b2/12466d3018bb84b039139ef76436ea7a01e98125c2aee6a81e527eb4ebe1/spacy-2.3.4-cp36-cp36m-manylinux2014_x86_64.whl (10.4MB)\n",
            "\u001b[K     |████████████████████████████████| 10.4MB 5.3MB/s \n",
            "\u001b[?25hRequirement already satisfied, skipping upgrade: requests<3.0.0,>=2.13.0 in /usr/local/lib/python3.6/dist-packages (from spaCy) (2.23.0)\n",
            "Requirement already satisfied, skipping upgrade: catalogue<1.1.0,>=0.0.7 in /usr/local/lib/python3.6/dist-packages (from spaCy) (1.0.0)\n",
            "Requirement already satisfied, skipping upgrade: blis<0.8.0,>=0.4.0; python_version >= \"3.6\" in /usr/local/lib/python3.6/dist-packages (from spaCy) (0.4.1)\n",
            "Requirement already satisfied, skipping upgrade: murmurhash<1.1.0,>=0.28.0 in /usr/local/lib/python3.6/dist-packages (from spaCy) (1.0.4)\n",
            "Requirement already satisfied, skipping upgrade: wasabi<1.1.0,>=0.4.0 in /usr/local/lib/python3.6/dist-packages (from spaCy) (0.8.0)\n",
            "Requirement already satisfied, skipping upgrade: srsly<1.1.0,>=1.0.2 in /usr/local/lib/python3.6/dist-packages (from spaCy) (1.0.4)\n",
            "Requirement already satisfied, skipping upgrade: tqdm<5.0.0,>=4.38.0 in /usr/local/lib/python3.6/dist-packages (from spaCy) (4.41.1)\n",
            "Requirement already satisfied, skipping upgrade: plac<1.2.0,>=0.9.6 in /usr/local/lib/python3.6/dist-packages (from spaCy) (1.1.3)\n",
            "Requirement already satisfied, skipping upgrade: cymem<2.1.0,>=2.0.2 in /usr/local/lib/python3.6/dist-packages (from spaCy) (2.0.4)\n",
            "Requirement already satisfied, skipping upgrade: setuptools in /usr/local/lib/python3.6/dist-packages (from spaCy) (50.3.2)\n",
            "Collecting thinc<7.5.0,>=7.4.1\n",
            "\u001b[?25l  Downloading https://files.pythonhosted.org/packages/1b/c9/ce2e03720a5647fd90da575325376ff258653a05f357aa970fd87e6c1a55/thinc-7.4.3-cp36-cp36m-manylinux2014_x86_64.whl (1.1MB)\n",
            "\u001b[K     |████████████████████████████████| 1.1MB 43.9MB/s \n",
            "\u001b[?25hRequirement already satisfied, skipping upgrade: numpy>=1.15.0 in /usr/local/lib/python3.6/dist-packages (from spaCy) (1.18.5)\n",
            "Requirement already satisfied, skipping upgrade: preshed<3.1.0,>=3.0.2 in /usr/local/lib/python3.6/dist-packages (from spaCy) (3.0.4)\n",
            "Requirement already satisfied, skipping upgrade: urllib3!=1.25.0,!=1.25.1,<1.26,>=1.21.1 in /usr/local/lib/python3.6/dist-packages (from requests<3.0.0,>=2.13.0->spaCy) (1.24.3)\n",
            "Requirement already satisfied, skipping upgrade: chardet<4,>=3.0.2 in /usr/local/lib/python3.6/dist-packages (from requests<3.0.0,>=2.13.0->spaCy) (3.0.4)\n",
            "Requirement already satisfied, skipping upgrade: certifi>=2017.4.17 in /usr/local/lib/python3.6/dist-packages (from requests<3.0.0,>=2.13.0->spaCy) (2020.11.8)\n",
            "Requirement already satisfied, skipping upgrade: idna<3,>=2.5 in /usr/local/lib/python3.6/dist-packages (from requests<3.0.0,>=2.13.0->spaCy) (2.10)\n",
            "Requirement already satisfied, skipping upgrade: importlib-metadata>=0.20; python_version < \"3.8\" in /usr/local/lib/python3.6/dist-packages (from catalogue<1.1.0,>=0.0.7->spaCy) (2.0.0)\n",
            "Requirement already satisfied, skipping upgrade: zipp>=0.5 in /usr/local/lib/python3.6/dist-packages (from importlib-metadata>=0.20; python_version < \"3.8\"->catalogue<1.1.0,>=0.0.7->spaCy) (3.4.0)\n",
            "Installing collected packages: thinc, spaCy\n",
            "  Found existing installation: thinc 7.4.0\n",
            "    Uninstalling thinc-7.4.0:\n",
            "      Successfully uninstalled thinc-7.4.0\n",
            "  Found existing installation: spacy 2.2.4\n",
            "    Uninstalling spacy-2.2.4:\n",
            "      Successfully uninstalled spacy-2.2.4\n",
            "Successfully installed spaCy-2.3.4 thinc-7.4.3\n"
          ],
          "name": "stdout"
        }
      ]
    },
    {
      "cell_type": "code",
      "metadata": {
        "colab": {
          "base_uri": "https://localhost:8080/"
        },
        "id": "4msq7AxUJ7UR",
        "outputId": "fc0df9a5-e3a1-4507-8f01-7434a700480a"
      },
      "source": [
        "from google.colab import drive\n",
        "drive.mount('/content/drive')"
      ],
      "execution_count": null,
      "outputs": [
        {
          "output_type": "stream",
          "text": [
            "Mounted at /content/drive\n"
          ],
          "name": "stdout"
        }
      ]
    },
    {
      "cell_type": "code",
      "metadata": {
        "colab": {
          "base_uri": "https://localhost:8080/"
        },
        "id": "BevP3Tn1KDtO",
        "outputId": "d84bb7fc-35ed-4231-c17c-1a32f20662df"
      },
      "source": [
        "import spacy\n",
        "nlp = spacy.load(\"en_core_web_sm\")\n",
        "nlp"
      ],
      "execution_count": null,
      "outputs": [
        {
          "output_type": "stream",
          "text": [
            "/usr/local/lib/python3.6/dist-packages/spacy/util.py:275: UserWarning: [W031] Model 'en_core_web_sm' (2.2.5) requires spaCy v2.2 and is incompatible with the current spaCy version (2.3.4). This may lead to unexpected results or runtime errors. To resolve this, download a newer compatible model or retrain your custom model with the current spaCy version. For more details and available updates, run: python -m spacy validate\n",
            "  warnings.warn(warn_msg)\n"
          ],
          "name": "stderr"
        },
        {
          "output_type": "execute_result",
          "data": {
            "text/plain": [
              "<spacy.lang.en.English at 0x7fc4c7c96f28>"
            ]
          },
          "metadata": {
            "tags": []
          },
          "execution_count": 4
        }
      ]
    },
    {
      "cell_type": "markdown",
      "metadata": {
        "id": "Acdw4jvdLkmF"
      },
      "source": [
        "### DOC object is a sequence of tokens that contains not just the original text but all the results produced by spaCy model after preprocessing the text. Information like the lemma of the text, stop word(yes/not), named entities etc"
      ]
    },
    {
      "cell_type": "code",
      "metadata": {
        "colab": {
          "base_uri": "https://localhost:8080/"
        },
        "id": "TBpvCStsKWo8",
        "outputId": "e9009d19-1bc1-4eb4-903d-b9e5e8623bf8"
      },
      "source": [
        "my_text =\"Thompson, 30, missed all of last season after tearing the ACL in his left knee during Game 6 of the 2019 NBA Finals against the Toronto Raptors. The Warriors were optimistic that Thompson, who has spent more than a year rehabbing the injury, would come back at full strength for the 2020-21 season. Now they will spend another season without him on the court.\"\n",
        "my_doc = nlp(my_text)\n",
        "type(my_doc) "
      ],
      "execution_count": null,
      "outputs": [
        {
          "output_type": "execute_result",
          "data": {
            "text/plain": [
              "spacy.tokens.doc.Doc"
            ]
          },
          "metadata": {
            "tags": []
          },
          "execution_count": 5
        }
      ]
    },
    {
      "cell_type": "code",
      "metadata": {
        "colab": {
          "base_uri": "https://localhost:8080/"
        },
        "id": "fgwlPs-tNOsE",
        "outputId": "30504156-76df-44af-87d2-3a295761b39c"
      },
      "source": [
        "my_doc_1 = nlp(\"Thompson,\")\n",
        "word_hash = nlp.vocab.strings[\"Thompson\"] #Each element has an unique key value pair.\n",
        "print(word_hash)\n",
        "word_hash = my_doc_1.vocab.strings[\"Thompson\"]\n",
        "print(word_hash)"
      ],
      "execution_count": null,
      "outputs": [
        {
          "output_type": "stream",
          "text": [
            "16131015515240977358\n",
            "16131015515240977358\n"
          ],
          "name": "stdout"
        }
      ]
    },
    {
      "cell_type": "markdown",
      "metadata": {
        "id": "YOtEfyOqLrQD"
      },
      "source": [
        "#Tokenization with spaCy"
      ]
    },
    {
      "cell_type": "code",
      "metadata": {
        "colab": {
          "base_uri": "https://localhost:8080/"
        },
        "id": "p9MnrkBWK0U0",
        "outputId": "b97d2f10-d076-4f38-c6e2-5112ebc2f7d0"
      },
      "source": [
        "for token in my_doc:\n",
        "  print(token)"
      ],
      "execution_count": null,
      "outputs": [
        {
          "output_type": "stream",
          "text": [
            "Thompson\n",
            ",\n",
            "30\n",
            ",\n",
            "missed\n",
            "all\n",
            "of\n",
            "last\n",
            "season\n",
            "after\n",
            "tearing\n",
            "the\n",
            "ACL\n",
            "in\n",
            "his\n",
            "left\n",
            "knee\n",
            "during\n",
            "Game\n",
            "6\n",
            "of\n",
            "the\n",
            "2019\n",
            "NBA\n",
            "Finals\n",
            "against\n",
            "the\n",
            "Toronto\n",
            "Raptors\n",
            ".\n",
            "The\n",
            "Warriors\n",
            "were\n",
            "optimistic\n",
            "that\n",
            "Thompson\n",
            ",\n",
            "who\n",
            "has\n",
            "spent\n",
            "more\n",
            "than\n",
            "a\n",
            "year\n",
            "rehabbing\n",
            "the\n",
            "injury\n",
            ",\n",
            "would\n",
            "come\n",
            "back\n",
            "at\n",
            "full\n",
            "strength\n",
            "for\n",
            "the\n",
            "2020\n",
            "-\n",
            "21\n",
            "season\n",
            ".\n",
            "Now\n",
            "they\n",
            "will\n",
            "spend\n",
            "another\n",
            "season\n",
            "without\n",
            "him\n",
            "on\n",
            "the\n",
            "court\n",
            ".\n"
          ],
          "name": "stdout"
        }
      ]
    },
    {
      "cell_type": "markdown",
      "metadata": {
        "id": "vg7r2VrGL8GM"
      },
      "source": [
        "### Text-preprocessing"
      ]
    },
    {
      "cell_type": "code",
      "metadata": {
        "colab": {
          "base_uri": "https://localhost:8080/"
        },
        "id": "bfzGmT02L0wu",
        "outputId": "875b9629-50f3-4888-a4be-7992ea082672"
      },
      "source": [
        "for token in my_doc:\n",
        "  print(token.text,'--',token.is_stop,'--',token.is_punct)"
      ],
      "execution_count": null,
      "outputs": [
        {
          "output_type": "stream",
          "text": [
            "Thompson -- False -- False\n",
            ", -- False -- True\n",
            "30 -- False -- False\n",
            ", -- False -- True\n",
            "missed -- False -- False\n",
            "all -- True -- False\n",
            "of -- True -- False\n",
            "last -- True -- False\n",
            "season -- False -- False\n",
            "after -- True -- False\n",
            "tearing -- False -- False\n",
            "the -- True -- False\n",
            "ACL -- False -- False\n",
            "in -- True -- False\n",
            "his -- True -- False\n",
            "left -- False -- False\n",
            "knee -- False -- False\n",
            "during -- True -- False\n",
            "Game -- False -- False\n",
            "6 -- False -- False\n",
            "of -- True -- False\n",
            "the -- True -- False\n",
            "2019 -- False -- False\n",
            "NBA -- False -- False\n",
            "Finals -- False -- False\n",
            "against -- True -- False\n",
            "the -- True -- False\n",
            "Toronto -- False -- False\n",
            "Raptors -- False -- False\n",
            ". -- False -- True\n",
            "The -- True -- False\n",
            "Warriors -- False -- False\n",
            "were -- True -- False\n",
            "optimistic -- False -- False\n",
            "that -- True -- False\n",
            "Thompson -- False -- False\n",
            ", -- False -- True\n",
            "who -- True -- False\n",
            "has -- True -- False\n",
            "spent -- False -- False\n",
            "more -- True -- False\n",
            "than -- True -- False\n",
            "a -- True -- False\n",
            "year -- False -- False\n",
            "rehabbing -- False -- False\n",
            "the -- True -- False\n",
            "injury -- False -- False\n",
            ", -- False -- True\n",
            "would -- True -- False\n",
            "come -- False -- False\n",
            "back -- True -- False\n",
            "at -- True -- False\n",
            "full -- True -- False\n",
            "strength -- False -- False\n",
            "for -- True -- False\n",
            "the -- True -- False\n",
            "2020 -- False -- False\n",
            "- -- False -- True\n",
            "21 -- False -- False\n",
            "season -- False -- False\n",
            ". -- False -- True\n",
            "Now -- True -- False\n",
            "they -- True -- False\n",
            "will -- True -- False\n",
            "spend -- False -- False\n",
            "another -- True -- False\n",
            "season -- False -- False\n",
            "without -- True -- False\n",
            "him -- True -- False\n",
            "on -- True -- False\n",
            "the -- True -- False\n",
            "court -- False -- False\n",
            ". -- False -- True\n"
          ],
          "name": "stdout"
        }
      ]
    },
    {
      "cell_type": "code",
      "metadata": {
        "colab": {
          "base_uri": "https://localhost:8080/"
        },
        "id": "OUCL630pMRij",
        "outputId": "7b9561bf-1c54-4e2f-be2b-79a75c27ea53"
      },
      "source": [
        "my_doc_cleaned = [token for token in my_doc if not token.is_stop and not token.is_punct]\n",
        "for token in my_doc_cleaned:\n",
        "  print(token.text)"
      ],
      "execution_count": null,
      "outputs": [
        {
          "output_type": "stream",
          "text": [
            "Thompson\n",
            "30\n",
            "missed\n",
            "season\n",
            "tearing\n",
            "ACL\n",
            "left\n",
            "knee\n",
            "Game\n",
            "6\n",
            "2019\n",
            "NBA\n",
            "Finals\n",
            "Toronto\n",
            "Raptors\n",
            "Warriors\n",
            "optimistic\n",
            "Thompson\n",
            "spent\n",
            "year\n",
            "rehabbing\n",
            "injury\n",
            "come\n",
            "strength\n",
            "2020\n",
            "21\n",
            "season\n",
            "spend\n",
            "season\n",
            "court\n"
          ],
          "name": "stdout"
        }
      ]
    },
    {
      "cell_type": "markdown",
      "metadata": {
        "id": "AXjYxPf-MxT_"
      },
      "source": [
        "# Lemmatization: converting a token to its root/base form"
      ]
    },
    {
      "cell_type": "code",
      "metadata": {
        "colab": {
          "base_uri": "https://localhost:8080/"
        },
        "id": "r9JdjgQWMmf7",
        "outputId": "eb057025-e0c6-49fe-995f-da32495b7c32"
      },
      "source": [
        "for token in my_doc_cleaned:\n",
        "  print(token.lemma_)"
      ],
      "execution_count": null,
      "outputs": [
        {
          "output_type": "stream",
          "text": [
            "Thompson\n",
            "30\n",
            "miss\n",
            "season\n",
            "tear\n",
            "ACL\n",
            "left\n",
            "knee\n",
            "Game\n",
            "6\n",
            "2019\n",
            "NBA\n",
            "Finals\n",
            "Toronto\n",
            "Raptors\n",
            "Warriors\n",
            "optimistic\n",
            "Thompson\n",
            "spend\n",
            "year\n",
            "rehabbe\n",
            "injury\n",
            "come\n",
            "strength\n",
            "2020\n",
            "21\n",
            "season\n",
            "spend\n",
            "season\n",
            "court\n"
          ],
          "name": "stdout"
        }
      ]
    },
    {
      "cell_type": "code",
      "metadata": {
        "colab": {
          "base_uri": "https://localhost:8080/"
        },
        "id": "sUUyxwHZNBpv",
        "outputId": "c9a35ab2-7057-482a-fc87-19a2779ff2ad"
      },
      "source": [
        "for token in my_doc:\n",
        "  if token.like_num:\n",
        "    print(token)"
      ],
      "execution_count": null,
      "outputs": [
        {
          "output_type": "stream",
          "text": [
            "30\n",
            "6\n",
            "2019\n",
            "2020\n",
            "21\n"
          ],
          "name": "stdout"
        }
      ]
    },
    {
      "cell_type": "code",
      "metadata": {
        "colab": {
          "base_uri": "https://localhost:8080/"
        },
        "id": "BBkTfl7NQiNO",
        "outputId": "bdb42835-3898-4025-efc0-b803ec519304"
      },
      "source": [
        "for token in my_doc_cleaned:\n",
        "  print(token.text,\"----\",token.pos_)"
      ],
      "execution_count": null,
      "outputs": [
        {
          "output_type": "stream",
          "text": [
            "Thompson ---- PROPN\n",
            "30 ---- NUM\n",
            "missed ---- VERB\n",
            "season ---- NOUN\n",
            "tearing ---- VERB\n",
            "ACL ---- PROPN\n",
            "left ---- ADJ\n",
            "knee ---- NOUN\n",
            "Game ---- PROPN\n",
            "6 ---- NUM\n",
            "2019 ---- NUM\n",
            "NBA ---- PROPN\n",
            "Finals ---- PROPN\n",
            "Toronto ---- PROPN\n",
            "Raptors ---- PROPN\n",
            "Warriors ---- PROPN\n",
            "optimistic ---- ADJ\n",
            "Thompson ---- PROPN\n",
            "spent ---- VERB\n",
            "year ---- NOUN\n",
            "rehabbing ---- VERB\n",
            "injury ---- NOUN\n",
            "come ---- VERB\n",
            "strength ---- NOUN\n",
            "2020 ---- NUM\n",
            "21 ---- NUM\n",
            "season ---- NOUN\n",
            "spend ---- VERB\n",
            "season ---- NOUN\n",
            "court ---- NOUN\n"
          ],
          "name": "stdout"
        }
      ]
    },
    {
      "cell_type": "code",
      "metadata": {
        "id": "dSsvpSf2VHlV"
      },
      "source": [
        ""
      ],
      "execution_count": null,
      "outputs": []
    }
  ]
}